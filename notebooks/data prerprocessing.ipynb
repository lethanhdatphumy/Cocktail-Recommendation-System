{
 "cells": [
  {
   "cell_type": "code",
   "id": "initial_id",
   "metadata": {
    "collapsed": true,
    "ExecuteTime": {
     "end_time": "2025-07-28T14:20:45.568560Z",
     "start_time": "2025-07-28T14:20:45.565767Z"
    }
   },
   "source": "import pandas as pd",
   "outputs": [],
   "execution_count": 30
  },
  {
   "metadata": {
    "ExecuteTime": {
     "end_time": "2025-07-28T14:20:45.599985Z",
     "start_time": "2025-07-28T14:20:45.587235Z"
    }
   },
   "cell_type": "code",
   "source": [
    "# Read the dataframe \n",
    "df = pd.read_csv(\"/Users/admin/PycharmProjects/Cocktail-Recommendation-System/database/final_cocktails.csv\")\n",
    "df.head(5)"
   ],
   "id": "1fa2d06d569690bc",
   "outputs": [
    {
     "data": {
      "text/plain": [
       "   Unnamed: 0  id  name  alcoholic        category       glassType  \\\n",
       "0           0   0    A1  Alcoholic        Cocktail  Cocktail glass   \n",
       "1           1   1   ABC  Alcoholic            Shot      Shot glass   \n",
       "2           2   2   Ace  Alcoholic        Cocktail   Martini Glass   \n",
       "3           3   3  ACID  Alcoholic            Shot      Shot glass   \n",
       "4           4   4  Adam  Alcoholic  Ordinary Drink  Cocktail glass   \n",
       "\n",
       "                                        instructions  \\\n",
       "0  Pour all ingredients into a cocktail shaker, m...   \n",
       "1                           Layered in a shot glass.   \n",
       "2  Shake all the ingredients in a cocktail shaker...   \n",
       "3  Poor in the 151 first followed by the 101 serv...   \n",
       "4  In a shaker half-filled with ice cubes, combin...   \n",
       "\n",
       "                                      drinkThumbnail  \\\n",
       "0  https://www.thecocktaildb.com/images/media/dri...   \n",
       "1  https://www.thecocktaildb.com/images/media/dri...   \n",
       "2  https://www.thecocktaildb.com/images/media/dri...   \n",
       "3  https://www.thecocktaildb.com/images/media/dri...   \n",
       "4  https://www.thecocktaildb.com/images/media/dri...   \n",
       "\n",
       "                                         ingredients  \\\n",
       "0  ['Gin', 'Grand Marnier', 'Lemon Juice', 'Grena...   \n",
       "1      ['Amaretto', 'Baileys irish cream', 'Cognac']   \n",
       "2  ['Gin', 'Grenadine', 'Heavy cream', 'Milk', 'E...   \n",
       "3                   ['151 proof rum', 'Wild Turkey']   \n",
       "4           ['Dark rum', 'Lemon juice', 'Grenadine']   \n",
       "\n",
       "                                  ingredientMeasures  \\\n",
       "0  ['1 3/4 shot ', '1 Shot ', '1/4 Shot', '1/8 Sh...   \n",
       "1                           ['1/3 ', '1/3 ', '1/3 ']   \n",
       "2  ['2 shots ', '1/2 shot ', '1/2 shot ', '1/2 sh...   \n",
       "3                         ['1 oz Bacardi ', '1 oz ']   \n",
       "4                       ['2 oz ', '1 oz ', '1 tsp ']   \n",
       "\n",
       "                                                text  \n",
       "0  question Generate a cocktail with Gin Grand Ma...  \n",
       "1  question Generate a cocktail with Amaretto Bai...  \n",
       "2  question Generate a cocktail with Gin Grenadin...  \n",
       "3  question Generate a cocktail with 151 proof ru...  \n",
       "4  question Generate a cocktail with Dark rum Lem...  "
      ],
      "text/html": [
       "<div>\n",
       "<style scoped>\n",
       "    .dataframe tbody tr th:only-of-type {\n",
       "        vertical-align: middle;\n",
       "    }\n",
       "\n",
       "    .dataframe tbody tr th {\n",
       "        vertical-align: top;\n",
       "    }\n",
       "\n",
       "    .dataframe thead th {\n",
       "        text-align: right;\n",
       "    }\n",
       "</style>\n",
       "<table border=\"1\" class=\"dataframe\">\n",
       "  <thead>\n",
       "    <tr style=\"text-align: right;\">\n",
       "      <th></th>\n",
       "      <th>Unnamed: 0</th>\n",
       "      <th>id</th>\n",
       "      <th>name</th>\n",
       "      <th>alcoholic</th>\n",
       "      <th>category</th>\n",
       "      <th>glassType</th>\n",
       "      <th>instructions</th>\n",
       "      <th>drinkThumbnail</th>\n",
       "      <th>ingredients</th>\n",
       "      <th>ingredientMeasures</th>\n",
       "      <th>text</th>\n",
       "    </tr>\n",
       "  </thead>\n",
       "  <tbody>\n",
       "    <tr>\n",
       "      <th>0</th>\n",
       "      <td>0</td>\n",
       "      <td>0</td>\n",
       "      <td>A1</td>\n",
       "      <td>Alcoholic</td>\n",
       "      <td>Cocktail</td>\n",
       "      <td>Cocktail glass</td>\n",
       "      <td>Pour all ingredients into a cocktail shaker, m...</td>\n",
       "      <td>https://www.thecocktaildb.com/images/media/dri...</td>\n",
       "      <td>['Gin', 'Grand Marnier', 'Lemon Juice', 'Grena...</td>\n",
       "      <td>['1 3/4 shot ', '1 Shot ', '1/4 Shot', '1/8 Sh...</td>\n",
       "      <td>question Generate a cocktail with Gin Grand Ma...</td>\n",
       "    </tr>\n",
       "    <tr>\n",
       "      <th>1</th>\n",
       "      <td>1</td>\n",
       "      <td>1</td>\n",
       "      <td>ABC</td>\n",
       "      <td>Alcoholic</td>\n",
       "      <td>Shot</td>\n",
       "      <td>Shot glass</td>\n",
       "      <td>Layered in a shot glass.</td>\n",
       "      <td>https://www.thecocktaildb.com/images/media/dri...</td>\n",
       "      <td>['Amaretto', 'Baileys irish cream', 'Cognac']</td>\n",
       "      <td>['1/3 ', '1/3 ', '1/3 ']</td>\n",
       "      <td>question Generate a cocktail with Amaretto Bai...</td>\n",
       "    </tr>\n",
       "    <tr>\n",
       "      <th>2</th>\n",
       "      <td>2</td>\n",
       "      <td>2</td>\n",
       "      <td>Ace</td>\n",
       "      <td>Alcoholic</td>\n",
       "      <td>Cocktail</td>\n",
       "      <td>Martini Glass</td>\n",
       "      <td>Shake all the ingredients in a cocktail shaker...</td>\n",
       "      <td>https://www.thecocktaildb.com/images/media/dri...</td>\n",
       "      <td>['Gin', 'Grenadine', 'Heavy cream', 'Milk', 'E...</td>\n",
       "      <td>['2 shots ', '1/2 shot ', '1/2 shot ', '1/2 sh...</td>\n",
       "      <td>question Generate a cocktail with Gin Grenadin...</td>\n",
       "    </tr>\n",
       "    <tr>\n",
       "      <th>3</th>\n",
       "      <td>3</td>\n",
       "      <td>3</td>\n",
       "      <td>ACID</td>\n",
       "      <td>Alcoholic</td>\n",
       "      <td>Shot</td>\n",
       "      <td>Shot glass</td>\n",
       "      <td>Poor in the 151 first followed by the 101 serv...</td>\n",
       "      <td>https://www.thecocktaildb.com/images/media/dri...</td>\n",
       "      <td>['151 proof rum', 'Wild Turkey']</td>\n",
       "      <td>['1 oz Bacardi ', '1 oz ']</td>\n",
       "      <td>question Generate a cocktail with 151 proof ru...</td>\n",
       "    </tr>\n",
       "    <tr>\n",
       "      <th>4</th>\n",
       "      <td>4</td>\n",
       "      <td>4</td>\n",
       "      <td>Adam</td>\n",
       "      <td>Alcoholic</td>\n",
       "      <td>Ordinary Drink</td>\n",
       "      <td>Cocktail glass</td>\n",
       "      <td>In a shaker half-filled with ice cubes, combin...</td>\n",
       "      <td>https://www.thecocktaildb.com/images/media/dri...</td>\n",
       "      <td>['Dark rum', 'Lemon juice', 'Grenadine']</td>\n",
       "      <td>['2 oz ', '1 oz ', '1 tsp ']</td>\n",
       "      <td>question Generate a cocktail with Dark rum Lem...</td>\n",
       "    </tr>\n",
       "  </tbody>\n",
       "</table>\n",
       "</div>"
      ]
     },
     "execution_count": 31,
     "metadata": {},
     "output_type": "execute_result"
    }
   ],
   "execution_count": 31
  },
  {
   "metadata": {
    "ExecuteTime": {
     "end_time": "2025-07-28T14:20:45.623508Z",
     "start_time": "2025-07-28T14:20:45.617941Z"
    }
   },
   "cell_type": "code",
   "source": "df.describe()",
   "id": "b7f3b76e26cb3cfd",
   "outputs": [
    {
     "data": {
      "text/plain": [
       "       Unnamed: 0          id\n",
       "count  425.000000  425.000000\n",
       "mean   212.000000  212.000000\n",
       "std    122.831185  122.831185\n",
       "min      0.000000    0.000000\n",
       "25%    106.000000  106.000000\n",
       "50%    212.000000  212.000000\n",
       "75%    318.000000  318.000000\n",
       "max    424.000000  424.000000"
      ],
      "text/html": [
       "<div>\n",
       "<style scoped>\n",
       "    .dataframe tbody tr th:only-of-type {\n",
       "        vertical-align: middle;\n",
       "    }\n",
       "\n",
       "    .dataframe tbody tr th {\n",
       "        vertical-align: top;\n",
       "    }\n",
       "\n",
       "    .dataframe thead th {\n",
       "        text-align: right;\n",
       "    }\n",
       "</style>\n",
       "<table border=\"1\" class=\"dataframe\">\n",
       "  <thead>\n",
       "    <tr style=\"text-align: right;\">\n",
       "      <th></th>\n",
       "      <th>Unnamed: 0</th>\n",
       "      <th>id</th>\n",
       "    </tr>\n",
       "  </thead>\n",
       "  <tbody>\n",
       "    <tr>\n",
       "      <th>count</th>\n",
       "      <td>425.000000</td>\n",
       "      <td>425.000000</td>\n",
       "    </tr>\n",
       "    <tr>\n",
       "      <th>mean</th>\n",
       "      <td>212.000000</td>\n",
       "      <td>212.000000</td>\n",
       "    </tr>\n",
       "    <tr>\n",
       "      <th>std</th>\n",
       "      <td>122.831185</td>\n",
       "      <td>122.831185</td>\n",
       "    </tr>\n",
       "    <tr>\n",
       "      <th>min</th>\n",
       "      <td>0.000000</td>\n",
       "      <td>0.000000</td>\n",
       "    </tr>\n",
       "    <tr>\n",
       "      <th>25%</th>\n",
       "      <td>106.000000</td>\n",
       "      <td>106.000000</td>\n",
       "    </tr>\n",
       "    <tr>\n",
       "      <th>50%</th>\n",
       "      <td>212.000000</td>\n",
       "      <td>212.000000</td>\n",
       "    </tr>\n",
       "    <tr>\n",
       "      <th>75%</th>\n",
       "      <td>318.000000</td>\n",
       "      <td>318.000000</td>\n",
       "    </tr>\n",
       "    <tr>\n",
       "      <th>max</th>\n",
       "      <td>424.000000</td>\n",
       "      <td>424.000000</td>\n",
       "    </tr>\n",
       "  </tbody>\n",
       "</table>\n",
       "</div>"
      ]
     },
     "execution_count": 32,
     "metadata": {},
     "output_type": "execute_result"
    }
   ],
   "execution_count": 32
  },
  {
   "metadata": {
    "ExecuteTime": {
     "end_time": "2025-07-28T14:20:45.629753Z",
     "start_time": "2025-07-28T14:20:45.624539Z"
    }
   },
   "cell_type": "code",
   "source": "df.info()",
   "id": "b4ca2bd0571deb46",
   "outputs": [
    {
     "name": "stdout",
     "output_type": "stream",
     "text": [
      "<class 'pandas.core.frame.DataFrame'>\n",
      "RangeIndex: 425 entries, 0 to 424\n",
      "Data columns (total 11 columns):\n",
      " #   Column              Non-Null Count  Dtype \n",
      "---  ------              --------------  ----- \n",
      " 0   Unnamed: 0          425 non-null    int64 \n",
      " 1   id                  425 non-null    int64 \n",
      " 2   name                425 non-null    object\n",
      " 3   alcoholic           425 non-null    object\n",
      " 4   category            425 non-null    object\n",
      " 5   glassType           425 non-null    object\n",
      " 6   instructions        425 non-null    object\n",
      " 7   drinkThumbnail      425 non-null    object\n",
      " 8   ingredients         425 non-null    object\n",
      " 9   ingredientMeasures  425 non-null    object\n",
      " 10  text                425 non-null    object\n",
      "dtypes: int64(2), object(9)\n",
      "memory usage: 36.7+ KB\n"
     ]
    }
   ],
   "execution_count": 33
  },
  {
   "metadata": {
    "ExecuteTime": {
     "end_time": "2025-07-28T14:20:45.637039Z",
     "start_time": "2025-07-28T14:20:45.634404Z"
    }
   },
   "cell_type": "code",
   "source": "df.isnull().sum()",
   "id": "d0290fddac5628f9",
   "outputs": [
    {
     "data": {
      "text/plain": [
       "Unnamed: 0            0\n",
       "id                    0\n",
       "name                  0\n",
       "alcoholic             0\n",
       "category              0\n",
       "glassType             0\n",
       "instructions          0\n",
       "drinkThumbnail        0\n",
       "ingredients           0\n",
       "ingredientMeasures    0\n",
       "text                  0\n",
       "dtype: int64"
      ]
     },
     "execution_count": 34,
     "metadata": {},
     "output_type": "execute_result"
    }
   ],
   "execution_count": 34
  },
  {
   "metadata": {
    "ExecuteTime": {
     "end_time": "2025-07-28T14:20:45.641997Z",
     "start_time": "2025-07-28T14:20:45.637912Z"
    }
   },
   "cell_type": "code",
   "source": [
    "# drop the Unnamed column\n",
    "df.drop(columns=[\"Unnamed: 0\"], inplace=True)\n",
    "df.head(5)"
   ],
   "id": "bdac8604bb080aff",
   "outputs": [
    {
     "data": {
      "text/plain": [
       "   id  name  alcoholic        category       glassType  \\\n",
       "0   0    A1  Alcoholic        Cocktail  Cocktail glass   \n",
       "1   1   ABC  Alcoholic            Shot      Shot glass   \n",
       "2   2   Ace  Alcoholic        Cocktail   Martini Glass   \n",
       "3   3  ACID  Alcoholic            Shot      Shot glass   \n",
       "4   4  Adam  Alcoholic  Ordinary Drink  Cocktail glass   \n",
       "\n",
       "                                        instructions  \\\n",
       "0  Pour all ingredients into a cocktail shaker, m...   \n",
       "1                           Layered in a shot glass.   \n",
       "2  Shake all the ingredients in a cocktail shaker...   \n",
       "3  Poor in the 151 first followed by the 101 serv...   \n",
       "4  In a shaker half-filled with ice cubes, combin...   \n",
       "\n",
       "                                      drinkThumbnail  \\\n",
       "0  https://www.thecocktaildb.com/images/media/dri...   \n",
       "1  https://www.thecocktaildb.com/images/media/dri...   \n",
       "2  https://www.thecocktaildb.com/images/media/dri...   \n",
       "3  https://www.thecocktaildb.com/images/media/dri...   \n",
       "4  https://www.thecocktaildb.com/images/media/dri...   \n",
       "\n",
       "                                         ingredients  \\\n",
       "0  ['Gin', 'Grand Marnier', 'Lemon Juice', 'Grena...   \n",
       "1      ['Amaretto', 'Baileys irish cream', 'Cognac']   \n",
       "2  ['Gin', 'Grenadine', 'Heavy cream', 'Milk', 'E...   \n",
       "3                   ['151 proof rum', 'Wild Turkey']   \n",
       "4           ['Dark rum', 'Lemon juice', 'Grenadine']   \n",
       "\n",
       "                                  ingredientMeasures  \\\n",
       "0  ['1 3/4 shot ', '1 Shot ', '1/4 Shot', '1/8 Sh...   \n",
       "1                           ['1/3 ', '1/3 ', '1/3 ']   \n",
       "2  ['2 shots ', '1/2 shot ', '1/2 shot ', '1/2 sh...   \n",
       "3                         ['1 oz Bacardi ', '1 oz ']   \n",
       "4                       ['2 oz ', '1 oz ', '1 tsp ']   \n",
       "\n",
       "                                                text  \n",
       "0  question Generate a cocktail with Gin Grand Ma...  \n",
       "1  question Generate a cocktail with Amaretto Bai...  \n",
       "2  question Generate a cocktail with Gin Grenadin...  \n",
       "3  question Generate a cocktail with 151 proof ru...  \n",
       "4  question Generate a cocktail with Dark rum Lem...  "
      ],
      "text/html": [
       "<div>\n",
       "<style scoped>\n",
       "    .dataframe tbody tr th:only-of-type {\n",
       "        vertical-align: middle;\n",
       "    }\n",
       "\n",
       "    .dataframe tbody tr th {\n",
       "        vertical-align: top;\n",
       "    }\n",
       "\n",
       "    .dataframe thead th {\n",
       "        text-align: right;\n",
       "    }\n",
       "</style>\n",
       "<table border=\"1\" class=\"dataframe\">\n",
       "  <thead>\n",
       "    <tr style=\"text-align: right;\">\n",
       "      <th></th>\n",
       "      <th>id</th>\n",
       "      <th>name</th>\n",
       "      <th>alcoholic</th>\n",
       "      <th>category</th>\n",
       "      <th>glassType</th>\n",
       "      <th>instructions</th>\n",
       "      <th>drinkThumbnail</th>\n",
       "      <th>ingredients</th>\n",
       "      <th>ingredientMeasures</th>\n",
       "      <th>text</th>\n",
       "    </tr>\n",
       "  </thead>\n",
       "  <tbody>\n",
       "    <tr>\n",
       "      <th>0</th>\n",
       "      <td>0</td>\n",
       "      <td>A1</td>\n",
       "      <td>Alcoholic</td>\n",
       "      <td>Cocktail</td>\n",
       "      <td>Cocktail glass</td>\n",
       "      <td>Pour all ingredients into a cocktail shaker, m...</td>\n",
       "      <td>https://www.thecocktaildb.com/images/media/dri...</td>\n",
       "      <td>['Gin', 'Grand Marnier', 'Lemon Juice', 'Grena...</td>\n",
       "      <td>['1 3/4 shot ', '1 Shot ', '1/4 Shot', '1/8 Sh...</td>\n",
       "      <td>question Generate a cocktail with Gin Grand Ma...</td>\n",
       "    </tr>\n",
       "    <tr>\n",
       "      <th>1</th>\n",
       "      <td>1</td>\n",
       "      <td>ABC</td>\n",
       "      <td>Alcoholic</td>\n",
       "      <td>Shot</td>\n",
       "      <td>Shot glass</td>\n",
       "      <td>Layered in a shot glass.</td>\n",
       "      <td>https://www.thecocktaildb.com/images/media/dri...</td>\n",
       "      <td>['Amaretto', 'Baileys irish cream', 'Cognac']</td>\n",
       "      <td>['1/3 ', '1/3 ', '1/3 ']</td>\n",
       "      <td>question Generate a cocktail with Amaretto Bai...</td>\n",
       "    </tr>\n",
       "    <tr>\n",
       "      <th>2</th>\n",
       "      <td>2</td>\n",
       "      <td>Ace</td>\n",
       "      <td>Alcoholic</td>\n",
       "      <td>Cocktail</td>\n",
       "      <td>Martini Glass</td>\n",
       "      <td>Shake all the ingredients in a cocktail shaker...</td>\n",
       "      <td>https://www.thecocktaildb.com/images/media/dri...</td>\n",
       "      <td>['Gin', 'Grenadine', 'Heavy cream', 'Milk', 'E...</td>\n",
       "      <td>['2 shots ', '1/2 shot ', '1/2 shot ', '1/2 sh...</td>\n",
       "      <td>question Generate a cocktail with Gin Grenadin...</td>\n",
       "    </tr>\n",
       "    <tr>\n",
       "      <th>3</th>\n",
       "      <td>3</td>\n",
       "      <td>ACID</td>\n",
       "      <td>Alcoholic</td>\n",
       "      <td>Shot</td>\n",
       "      <td>Shot glass</td>\n",
       "      <td>Poor in the 151 first followed by the 101 serv...</td>\n",
       "      <td>https://www.thecocktaildb.com/images/media/dri...</td>\n",
       "      <td>['151 proof rum', 'Wild Turkey']</td>\n",
       "      <td>['1 oz Bacardi ', '1 oz ']</td>\n",
       "      <td>question Generate a cocktail with 151 proof ru...</td>\n",
       "    </tr>\n",
       "    <tr>\n",
       "      <th>4</th>\n",
       "      <td>4</td>\n",
       "      <td>Adam</td>\n",
       "      <td>Alcoholic</td>\n",
       "      <td>Ordinary Drink</td>\n",
       "      <td>Cocktail glass</td>\n",
       "      <td>In a shaker half-filled with ice cubes, combin...</td>\n",
       "      <td>https://www.thecocktaildb.com/images/media/dri...</td>\n",
       "      <td>['Dark rum', 'Lemon juice', 'Grenadine']</td>\n",
       "      <td>['2 oz ', '1 oz ', '1 tsp ']</td>\n",
       "      <td>question Generate a cocktail with Dark rum Lem...</td>\n",
       "    </tr>\n",
       "  </tbody>\n",
       "</table>\n",
       "</div>"
      ]
     },
     "execution_count": 35,
     "metadata": {},
     "output_type": "execute_result"
    }
   ],
   "execution_count": 35
  },
  {
   "metadata": {
    "ExecuteTime": {
     "end_time": "2025-07-28T14:20:45.648211Z",
     "start_time": "2025-07-28T14:20:45.646224Z"
    }
   },
   "cell_type": "code",
   "source": [
    "# Check the \"ingredients\" column\n",
    "print(type(df[\"ingredients\"][2]))\n",
    "print(type(df[\"ingredientMeasures\"][3]))\n"
   ],
   "id": "8cbd07c2244f1689",
   "outputs": [
    {
     "name": "stdout",
     "output_type": "stream",
     "text": [
      "<class 'str'>\n",
      "<class 'str'>\n"
     ]
    }
   ],
   "execution_count": 36
  },
  {
   "metadata": {
    "ExecuteTime": {
     "end_time": "2025-07-28T14:20:45.669700Z",
     "start_time": "2025-07-28T14:20:45.667183Z"
    }
   },
   "cell_type": "code",
   "source": "print(df[\"ingredients\"].head(3))",
   "id": "3b5bd55f30e6d0d3",
   "outputs": [
    {
     "name": "stdout",
     "output_type": "stream",
     "text": [
      "0    ['Gin', 'Grand Marnier', 'Lemon Juice', 'Grena...\n",
      "1        ['Amaretto', 'Baileys irish cream', 'Cognac']\n",
      "2    ['Gin', 'Grenadine', 'Heavy cream', 'Milk', 'E...\n",
      "Name: ingredients, dtype: object\n"
     ]
    }
   ],
   "execution_count": 37
  },
  {
   "metadata": {
    "ExecuteTime": {
     "end_time": "2025-07-28T14:20:45.702997Z",
     "start_time": "2025-07-28T14:20:45.694910Z"
    }
   },
   "cell_type": "code",
   "source": [
    "import ast\n",
    "df['ingredients'] = df['ingredients'].apply(ast.literal_eval)\n",
    "df['ingredientMeasures'] = df['ingredientMeasures'].apply(ast.literal_eval)"
   ],
   "id": "77ea7a950b970a77",
   "outputs": [],
   "execution_count": 38
  },
  {
   "metadata": {
    "ExecuteTime": {
     "end_time": "2025-07-28T14:20:45.741145Z",
     "start_time": "2025-07-28T14:20:45.738669Z"
    }
   },
   "cell_type": "code",
   "source": [
    "# Check the \"ingredients\" and \"ingredientsMeasure\" columns\n",
    "print(type(df[\"ingredients\"][2]))\n",
    "print(type(df[\"ingredientMeasures\"][3]))\n"
   ],
   "id": "5224bc4f8cf97f1d",
   "outputs": [
    {
     "name": "stdout",
     "output_type": "stream",
     "text": [
      "<class 'list'>\n",
      "<class 'list'>\n"
     ]
    }
   ],
   "execution_count": 39
  },
  {
   "metadata": {
    "ExecuteTime": {
     "end_time": "2025-07-28T14:20:45.754165Z",
     "start_time": "2025-07-28T14:20:45.750554Z"
    }
   },
   "cell_type": "code",
   "source": [
    "# Normalize the ingredients column\n",
    "df['ingredients'] = df['ingredients'].apply(\n",
    "    lambda ingredients: [ingredient.strip().lower() for ingredient in ingredients]\n",
    ")\n",
    "\n",
    "# Display the normalized ingredients\n",
    "df['ingredients'].head()"
   ],
   "id": "ec36ff300b8b7c65",
   "outputs": [
    {
     "data": {
      "text/plain": [
       "0      [gin, grand marnier, lemon juice, grenadine]\n",
       "1           [amaretto, baileys irish cream, cognac]\n",
       "2    [gin, grenadine, heavy cream, milk, egg white]\n",
       "3                      [151 proof rum, wild turkey]\n",
       "4                [dark rum, lemon juice, grenadine]\n",
       "Name: ingredients, dtype: object"
      ]
     },
     "execution_count": 40,
     "metadata": {},
     "output_type": "execute_result"
    }
   ],
   "execution_count": 40
  },
  {
   "metadata": {
    "ExecuteTime": {
     "end_time": "2025-07-28T14:20:45.777884Z",
     "start_time": "2025-07-28T14:20:45.773358Z"
    }
   },
   "cell_type": "code",
   "source": [
    "# Standardize alcoholic, category, glassType\n",
    "df[\"alcoholic\"] = df[\"alcoholic\"].str.lower().str.strip()\n",
    "df[\"category\"] = df[\"category\"].str.lower().str.strip()\n",
    "df[\"glassType\"] = df[\"glassType\"].str.lower().str.strip()"
   ],
   "id": "65266050702d66a4",
   "outputs": [],
   "execution_count": 41
  },
  {
   "metadata": {
    "ExecuteTime": {
     "end_time": "2025-07-28T14:20:45.793074Z",
     "start_time": "2025-07-28T14:20:45.788002Z"
    }
   },
   "cell_type": "code",
   "source": [
    "print(df[\"alcoholic\"].unique())\n",
    "print(df[\"category\"].unique())\n",
    "print(df[\"glassType\"].unique())"
   ],
   "id": "e555279f21367d73",
   "outputs": [
    {
     "name": "stdout",
     "output_type": "stream",
     "text": [
      "['alcoholic' 'non alcoholic' 'optional alcohol']\n",
      "['cocktail' 'shot' 'ordinary drink' 'other / unknown' 'coffee / tea'\n",
      " 'beer' 'punch / party drink' 'shake' 'soft drink' 'homemade liqueur'\n",
      " 'cocoa']\n",
      "['cocktail glass' 'shot glass' 'martini glass' 'highball glass'\n",
      " 'collins glass' 'old-fashioned glass' 'whiskey sour glass'\n",
      " 'champagne flute' 'margarita glass' 'coupe glass' 'beer pilsner'\n",
      " 'punch bowl' 'coffee mug' 'beer mug' 'pint glass' 'hurricane glass'\n",
      " 'pitcher' 'beer glass' 'irish coffee cup' 'mason jar' 'balloon glass'\n",
      " 'wine glass' 'cordial glass' 'brandy snifter' 'copper mug' 'jar'\n",
      " 'nick and nora glass' 'white wine glass' 'whiskey glass'\n",
      " 'pousse cafe glass' 'margarita/coupette glass']\n"
     ]
    }
   ],
   "execution_count": 42
  },
  {
   "metadata": {
    "ExecuteTime": {
     "end_time": "2025-07-28T14:20:45.801728Z",
     "start_time": "2025-07-28T14:20:45.797011Z"
    }
   },
   "cell_type": "code",
   "source": [
    "# The most common ingredients\n",
    "most_common_ingredients = df['ingredients'].explode().value_counts().head(10) # Transform the list of ingredients into a long format\n",
    "most_common_ingredients"
   ],
   "id": "51055266b899d715",
   "outputs": [
    {
     "data": {
      "text/plain": [
       "ingredients\n",
       "gin             82\n",
       "vodka           64\n",
       "sugar           51\n",
       "lemon juice     49\n",
       "orange juice    44\n",
       "lemon           40\n",
       "ice             36\n",
       "lime juice      32\n",
       "grenadine       31\n",
       "lime            30\n",
       "Name: count, dtype: int64"
      ]
     },
     "execution_count": 43,
     "metadata": {},
     "output_type": "execute_result"
    }
   ],
   "execution_count": 43
  },
  {
   "metadata": {
    "ExecuteTime": {
     "end_time": "2025-07-28T14:20:45.806474Z",
     "start_time": "2025-07-28T14:20:45.802609Z"
    }
   },
   "cell_type": "code",
   "source": [
    "most_frequent_glass_types = df['glassType'].value_counts().head(10)\n",
    "most_frequent_glass_types"
   ],
   "id": "8651dddedb12933f",
   "outputs": [
    {
     "data": {
      "text/plain": [
       "glassType\n",
       "cocktail glass         100\n",
       "highball glass          98\n",
       "collins glass           58\n",
       "old-fashioned glass     39\n",
       "shot glass              24\n",
       "coffee mug              16\n",
       "whiskey sour glass      14\n",
       "punch bowl               8\n",
       "champagne flute          7\n",
       "irish coffee cup         6\n",
       "Name: count, dtype: int64"
      ]
     },
     "execution_count": 44,
     "metadata": {},
     "output_type": "execute_result"
    }
   ],
   "execution_count": 44
  },
  {
   "metadata": {
    "ExecuteTime": {
     "end_time": "2025-07-28T14:20:45.809725Z",
     "start_time": "2025-07-28T14:20:45.807055Z"
    }
   },
   "cell_type": "code",
   "source": [
    "# number of alcoholic and non-alcoholic cocktails\n",
    "number_of_alcoholic = df[df['alcoholic'] == 'alcoholic'].shape[0]\n",
    "number_of_non_alcoholic = df[df['alcoholic'] == 'non-alcoholic'].shape[0]\n",
    "print(f\"Number of alcoholic cocktails: {number_of_alcoholic}\")\n",
    "print(f\"Number of non-alcoholic cocktails: {number_of_non_alcoholic}\")"
   ],
   "id": "6722d3f57b1b6449",
   "outputs": [
    {
     "name": "stdout",
     "output_type": "stream",
     "text": [
      "Number of alcoholic cocktails: 379\n",
      "Number of non-alcoholic cocktails: 0\n"
     ]
    }
   ],
   "execution_count": 45
  },
  {
   "metadata": {
    "ExecuteTime": {
     "end_time": "2025-07-28T14:20:45.816913Z",
     "start_time": "2025-07-28T14:20:45.811702Z"
    }
   },
   "cell_type": "code",
   "source": [
    "# Review the dataframe after cleaning\n",
    "df.head(5)"
   ],
   "id": "32eeb3ddb9017131",
   "outputs": [
    {
     "data": {
      "text/plain": [
       "   id  name  alcoholic        category       glassType  \\\n",
       "0   0    A1  alcoholic        cocktail  cocktail glass   \n",
       "1   1   ABC  alcoholic            shot      shot glass   \n",
       "2   2   Ace  alcoholic        cocktail   martini glass   \n",
       "3   3  ACID  alcoholic            shot      shot glass   \n",
       "4   4  Adam  alcoholic  ordinary drink  cocktail glass   \n",
       "\n",
       "                                        instructions  \\\n",
       "0  Pour all ingredients into a cocktail shaker, m...   \n",
       "1                           Layered in a shot glass.   \n",
       "2  Shake all the ingredients in a cocktail shaker...   \n",
       "3  Poor in the 151 first followed by the 101 serv...   \n",
       "4  In a shaker half-filled with ice cubes, combin...   \n",
       "\n",
       "                                      drinkThumbnail  \\\n",
       "0  https://www.thecocktaildb.com/images/media/dri...   \n",
       "1  https://www.thecocktaildb.com/images/media/dri...   \n",
       "2  https://www.thecocktaildb.com/images/media/dri...   \n",
       "3  https://www.thecocktaildb.com/images/media/dri...   \n",
       "4  https://www.thecocktaildb.com/images/media/dri...   \n",
       "\n",
       "                                      ingredients  \\\n",
       "0    [gin, grand marnier, lemon juice, grenadine]   \n",
       "1         [amaretto, baileys irish cream, cognac]   \n",
       "2  [gin, grenadine, heavy cream, milk, egg white]   \n",
       "3                    [151 proof rum, wild turkey]   \n",
       "4              [dark rum, lemon juice, grenadine]   \n",
       "\n",
       "                                  ingredientMeasures  \\\n",
       "0         [1 3/4 shot , 1 Shot , 1/4 Shot, 1/8 Shot]   \n",
       "1                                 [1/3 , 1/3 , 1/3 ]   \n",
       "2  [2 shots , 1/2 shot , 1/2 shot , 1/2 shot, 1/2...   \n",
       "3                             [1 oz Bacardi , 1 oz ]   \n",
       "4                             [2 oz , 1 oz , 1 tsp ]   \n",
       "\n",
       "                                                text  \n",
       "0  question Generate a cocktail with Gin Grand Ma...  \n",
       "1  question Generate a cocktail with Amaretto Bai...  \n",
       "2  question Generate a cocktail with Gin Grenadin...  \n",
       "3  question Generate a cocktail with 151 proof ru...  \n",
       "4  question Generate a cocktail with Dark rum Lem...  "
      ],
      "text/html": [
       "<div>\n",
       "<style scoped>\n",
       "    .dataframe tbody tr th:only-of-type {\n",
       "        vertical-align: middle;\n",
       "    }\n",
       "\n",
       "    .dataframe tbody tr th {\n",
       "        vertical-align: top;\n",
       "    }\n",
       "\n",
       "    .dataframe thead th {\n",
       "        text-align: right;\n",
       "    }\n",
       "</style>\n",
       "<table border=\"1\" class=\"dataframe\">\n",
       "  <thead>\n",
       "    <tr style=\"text-align: right;\">\n",
       "      <th></th>\n",
       "      <th>id</th>\n",
       "      <th>name</th>\n",
       "      <th>alcoholic</th>\n",
       "      <th>category</th>\n",
       "      <th>glassType</th>\n",
       "      <th>instructions</th>\n",
       "      <th>drinkThumbnail</th>\n",
       "      <th>ingredients</th>\n",
       "      <th>ingredientMeasures</th>\n",
       "      <th>text</th>\n",
       "    </tr>\n",
       "  </thead>\n",
       "  <tbody>\n",
       "    <tr>\n",
       "      <th>0</th>\n",
       "      <td>0</td>\n",
       "      <td>A1</td>\n",
       "      <td>alcoholic</td>\n",
       "      <td>cocktail</td>\n",
       "      <td>cocktail glass</td>\n",
       "      <td>Pour all ingredients into a cocktail shaker, m...</td>\n",
       "      <td>https://www.thecocktaildb.com/images/media/dri...</td>\n",
       "      <td>[gin, grand marnier, lemon juice, grenadine]</td>\n",
       "      <td>[1 3/4 shot , 1 Shot , 1/4 Shot, 1/8 Shot]</td>\n",
       "      <td>question Generate a cocktail with Gin Grand Ma...</td>\n",
       "    </tr>\n",
       "    <tr>\n",
       "      <th>1</th>\n",
       "      <td>1</td>\n",
       "      <td>ABC</td>\n",
       "      <td>alcoholic</td>\n",
       "      <td>shot</td>\n",
       "      <td>shot glass</td>\n",
       "      <td>Layered in a shot glass.</td>\n",
       "      <td>https://www.thecocktaildb.com/images/media/dri...</td>\n",
       "      <td>[amaretto, baileys irish cream, cognac]</td>\n",
       "      <td>[1/3 , 1/3 , 1/3 ]</td>\n",
       "      <td>question Generate a cocktail with Amaretto Bai...</td>\n",
       "    </tr>\n",
       "    <tr>\n",
       "      <th>2</th>\n",
       "      <td>2</td>\n",
       "      <td>Ace</td>\n",
       "      <td>alcoholic</td>\n",
       "      <td>cocktail</td>\n",
       "      <td>martini glass</td>\n",
       "      <td>Shake all the ingredients in a cocktail shaker...</td>\n",
       "      <td>https://www.thecocktaildb.com/images/media/dri...</td>\n",
       "      <td>[gin, grenadine, heavy cream, milk, egg white]</td>\n",
       "      <td>[2 shots , 1/2 shot , 1/2 shot , 1/2 shot, 1/2...</td>\n",
       "      <td>question Generate a cocktail with Gin Grenadin...</td>\n",
       "    </tr>\n",
       "    <tr>\n",
       "      <th>3</th>\n",
       "      <td>3</td>\n",
       "      <td>ACID</td>\n",
       "      <td>alcoholic</td>\n",
       "      <td>shot</td>\n",
       "      <td>shot glass</td>\n",
       "      <td>Poor in the 151 first followed by the 101 serv...</td>\n",
       "      <td>https://www.thecocktaildb.com/images/media/dri...</td>\n",
       "      <td>[151 proof rum, wild turkey]</td>\n",
       "      <td>[1 oz Bacardi , 1 oz ]</td>\n",
       "      <td>question Generate a cocktail with 151 proof ru...</td>\n",
       "    </tr>\n",
       "    <tr>\n",
       "      <th>4</th>\n",
       "      <td>4</td>\n",
       "      <td>Adam</td>\n",
       "      <td>alcoholic</td>\n",
       "      <td>ordinary drink</td>\n",
       "      <td>cocktail glass</td>\n",
       "      <td>In a shaker half-filled with ice cubes, combin...</td>\n",
       "      <td>https://www.thecocktaildb.com/images/media/dri...</td>\n",
       "      <td>[dark rum, lemon juice, grenadine]</td>\n",
       "      <td>[2 oz , 1 oz , 1 tsp ]</td>\n",
       "      <td>question Generate a cocktail with Dark rum Lem...</td>\n",
       "    </tr>\n",
       "  </tbody>\n",
       "</table>\n",
       "</div>"
      ]
     },
     "execution_count": 46,
     "metadata": {},
     "output_type": "execute_result"
    }
   ],
   "execution_count": 46
  },
  {
   "metadata": {
    "ExecuteTime": {
     "end_time": "2025-07-28T14:20:45.836774Z",
     "start_time": "2025-07-28T14:20:45.831533Z"
    }
   },
   "cell_type": "code",
   "source": [
    "# Replace None in the ingredientMeasures column with a placeholder\n",
    "df['ingredientMeasures'] = df['ingredientMeasures'].apply(\n",
    "    lambda measures: [measure if measure is not None else 'to taste' for measure in measures]\n",
    ")\n",
    "# Display the updated ingredientMeasures column\n",
    "df['ingredientMeasures'].head(20)"
   ],
   "id": "88421825a4d5a38",
   "outputs": [
    {
     "data": {
      "text/plain": [
       "0            [1 3/4 shot , 1 Shot , 1/4 Shot, 1/8 Shot]\n",
       "1                                    [1/3 , 1/3 , 1/3 ]\n",
       "2     [2 shots , 1/2 shot , 1/2 shot , 1/2 shot, 1/2...\n",
       "3                                [1 oz Bacardi , 1 oz ]\n",
       "4                                [2 oz , 1 oz , 1 tsp ]\n",
       "5                                 [1 oz , 1 oz , 4 oz ]\n",
       "6                                    [1 1/2 oz , 1 oz ]\n",
       "7     [3 parts, 1 part , 6 parts , 1 1/2 part , to t...\n",
       "8                             [4 cl , 3 cl , 1 cl , 1 ]\n",
       "9                       [2 oz , 2 oz , 2 oz , to taste]\n",
       "10                            [1 1/2 oz , 2 oz , 3 oz ]\n",
       "11                                   [2 oz , 1 oz , 1 ]\n",
       "12                           [1 1/2 shot , 1 1/2 shot ]\n",
       "13                                [1 oz , 1 oz , 1 oz ]\n",
       "14    [1 1/2 oz , 1 1/2 tsp , 1 tblsp , 1 tsp , 1 , 1 ]\n",
       "15                 [1 1/2 oz , 1 oz , 1 oz , 2 dashes ]\n",
       "16                             [4.5 cl, 1.5 cl, 1.5 cl]\n",
       "17                             [2 cl , 1 cl , to taste]\n",
       "18                              [1 oz , 1/2 oz , 2 oz ]\n",
       "19                        [1 part , 4 parts , 4 parts ]\n",
       "Name: ingredientMeasures, dtype: object"
      ]
     },
     "execution_count": 47,
     "metadata": {},
     "output_type": "execute_result"
    }
   ],
   "execution_count": 47
  },
  {
   "metadata": {
    "ExecuteTime": {
     "end_time": "2025-07-28T14:20:45.846622Z",
     "start_time": "2025-07-28T14:20:45.842263Z"
    }
   },
   "cell_type": "code",
   "source": [
    "# Check the mis matched lengths of ingredients and ingredientMeasures\n",
    "mismatched_lengths = df[df.apply(lambda x: len(x['ingredients']) != len(x['ingredientMeasures']), axis=1)]\n",
    "print(f\"Number of mismatched lengths: {mismatched_lengths.shape[0]}\")"
   ],
   "id": "8c976ba5f627f036",
   "outputs": [
    {
     "name": "stdout",
     "output_type": "stream",
     "text": [
      "Number of mismatched lengths: 0\n"
     ]
    }
   ],
   "execution_count": 48
  },
  {
   "metadata": {
    "ExecuteTime": {
     "end_time": "2025-07-28T14:20:45.855704Z",
     "start_time": "2025-07-28T14:20:45.849487Z"
    }
   },
   "cell_type": "code",
   "source": "df.head(10)",
   "id": "4f869e84b70e379c",
   "outputs": [
    {
     "data": {
      "text/plain": [
       "   id    name      alcoholic         category       glassType  \\\n",
       "0   0      A1      alcoholic         cocktail  cocktail glass   \n",
       "1   1     ABC      alcoholic             shot      shot glass   \n",
       "2   2     Ace      alcoholic         cocktail   martini glass   \n",
       "3   3    ACID      alcoholic             shot      shot glass   \n",
       "4   4    Adam      alcoholic   ordinary drink  cocktail glass   \n",
       "5   5    AT&T      alcoholic   ordinary drink  highball glass   \n",
       "6   6   A. J.      alcoholic   ordinary drink  cocktail glass   \n",
       "7   7  Avalon      alcoholic   ordinary drink  highball glass   \n",
       "8   8  Apello  non alcoholic  other / unknown   collins glass   \n",
       "9   9  Affair      alcoholic   ordinary drink  highball glass   \n",
       "\n",
       "                                        instructions  \\\n",
       "0  Pour all ingredients into a cocktail shaker, m...   \n",
       "1                           Layered in a shot glass.   \n",
       "2  Shake all the ingredients in a cocktail shaker...   \n",
       "3  Poor in the 151 first followed by the 101 serv...   \n",
       "4  In a shaker half-filled with ice cubes, combin...   \n",
       "5    Pour Vodka and Gin over ice, add Tonic and Stir   \n",
       "6  Shake ingredients with ice, strain into a cock...   \n",
       "7  Fill a tall glass with ice. Layer the Finlandi...   \n",
       "8              Stirr. Grnish with maraschino cherry.   \n",
       "9  Pour schnapps, orange juice, and cranberry jui...   \n",
       "\n",
       "                                      drinkThumbnail  \\\n",
       "0  https://www.thecocktaildb.com/images/media/dri...   \n",
       "1  https://www.thecocktaildb.com/images/media/dri...   \n",
       "2  https://www.thecocktaildb.com/images/media/dri...   \n",
       "3  https://www.thecocktaildb.com/images/media/dri...   \n",
       "4  https://www.thecocktaildb.com/images/media/dri...   \n",
       "5  https://www.thecocktaildb.com/images/media/dri...   \n",
       "6  https://www.thecocktaildb.com/images/media/dri...   \n",
       "7  https://www.thecocktaildb.com/images/media/dri...   \n",
       "8  https://www.thecocktaildb.com/images/media/dri...   \n",
       "9  https://www.thecocktaildb.com/images/media/dri...   \n",
       "\n",
       "                                         ingredients  \\\n",
       "0       [gin, grand marnier, lemon juice, grenadine]   \n",
       "1            [amaretto, baileys irish cream, cognac]   \n",
       "2     [gin, grenadine, heavy cream, milk, egg white]   \n",
       "3                       [151 proof rum, wild turkey]   \n",
       "4                 [dark rum, lemon juice, grenadine]   \n",
       "5                  [absolut vodka, gin, tonic water]   \n",
       "6                      [applejack, grapefruit juice]   \n",
       "7  [vodka, pisang ambon, apple juice, lemon juice...   \n",
       "8  [orange juice, grapefruit juice, apple juice, ...   \n",
       "9  [strawberry schnapps, orange juice, cranberry ...   \n",
       "\n",
       "                                  ingredientMeasures  \\\n",
       "0         [1 3/4 shot , 1 Shot , 1/4 Shot, 1/8 Shot]   \n",
       "1                                 [1/3 , 1/3 , 1/3 ]   \n",
       "2  [2 shots , 1/2 shot , 1/2 shot , 1/2 shot, 1/2...   \n",
       "3                             [1 oz Bacardi , 1 oz ]   \n",
       "4                             [2 oz , 1 oz , 1 tsp ]   \n",
       "5                              [1 oz , 1 oz , 4 oz ]   \n",
       "6                                 [1 1/2 oz , 1 oz ]   \n",
       "7  [3 parts, 1 part , 6 parts , 1 1/2 part , to t...   \n",
       "8                          [4 cl , 3 cl , 1 cl , 1 ]   \n",
       "9                    [2 oz , 2 oz , 2 oz , to taste]   \n",
       "\n",
       "                                                text  \n",
       "0  question Generate a cocktail with Gin Grand Ma...  \n",
       "1  question Generate a cocktail with Amaretto Bai...  \n",
       "2  question Generate a cocktail with Gin Grenadin...  \n",
       "3  question Generate a cocktail with 151 proof ru...  \n",
       "4  question Generate a cocktail with Dark rum Lem...  \n",
       "5  question Generate a cocktail with Absolut Vodk...  \n",
       "6  question Generate a cocktail with Applejack Gr...  \n",
       "7  question Generate a cocktail with Vodka Pisang...  \n",
       "8  question Generate a cocktail with Orange juice...  \n",
       "9  question Generate a cocktail with Strawberry s...  "
      ],
      "text/html": [
       "<div>\n",
       "<style scoped>\n",
       "    .dataframe tbody tr th:only-of-type {\n",
       "        vertical-align: middle;\n",
       "    }\n",
       "\n",
       "    .dataframe tbody tr th {\n",
       "        vertical-align: top;\n",
       "    }\n",
       "\n",
       "    .dataframe thead th {\n",
       "        text-align: right;\n",
       "    }\n",
       "</style>\n",
       "<table border=\"1\" class=\"dataframe\">\n",
       "  <thead>\n",
       "    <tr style=\"text-align: right;\">\n",
       "      <th></th>\n",
       "      <th>id</th>\n",
       "      <th>name</th>\n",
       "      <th>alcoholic</th>\n",
       "      <th>category</th>\n",
       "      <th>glassType</th>\n",
       "      <th>instructions</th>\n",
       "      <th>drinkThumbnail</th>\n",
       "      <th>ingredients</th>\n",
       "      <th>ingredientMeasures</th>\n",
       "      <th>text</th>\n",
       "    </tr>\n",
       "  </thead>\n",
       "  <tbody>\n",
       "    <tr>\n",
       "      <th>0</th>\n",
       "      <td>0</td>\n",
       "      <td>A1</td>\n",
       "      <td>alcoholic</td>\n",
       "      <td>cocktail</td>\n",
       "      <td>cocktail glass</td>\n",
       "      <td>Pour all ingredients into a cocktail shaker, m...</td>\n",
       "      <td>https://www.thecocktaildb.com/images/media/dri...</td>\n",
       "      <td>[gin, grand marnier, lemon juice, grenadine]</td>\n",
       "      <td>[1 3/4 shot , 1 Shot , 1/4 Shot, 1/8 Shot]</td>\n",
       "      <td>question Generate a cocktail with Gin Grand Ma...</td>\n",
       "    </tr>\n",
       "    <tr>\n",
       "      <th>1</th>\n",
       "      <td>1</td>\n",
       "      <td>ABC</td>\n",
       "      <td>alcoholic</td>\n",
       "      <td>shot</td>\n",
       "      <td>shot glass</td>\n",
       "      <td>Layered in a shot glass.</td>\n",
       "      <td>https://www.thecocktaildb.com/images/media/dri...</td>\n",
       "      <td>[amaretto, baileys irish cream, cognac]</td>\n",
       "      <td>[1/3 , 1/3 , 1/3 ]</td>\n",
       "      <td>question Generate a cocktail with Amaretto Bai...</td>\n",
       "    </tr>\n",
       "    <tr>\n",
       "      <th>2</th>\n",
       "      <td>2</td>\n",
       "      <td>Ace</td>\n",
       "      <td>alcoholic</td>\n",
       "      <td>cocktail</td>\n",
       "      <td>martini glass</td>\n",
       "      <td>Shake all the ingredients in a cocktail shaker...</td>\n",
       "      <td>https://www.thecocktaildb.com/images/media/dri...</td>\n",
       "      <td>[gin, grenadine, heavy cream, milk, egg white]</td>\n",
       "      <td>[2 shots , 1/2 shot , 1/2 shot , 1/2 shot, 1/2...</td>\n",
       "      <td>question Generate a cocktail with Gin Grenadin...</td>\n",
       "    </tr>\n",
       "    <tr>\n",
       "      <th>3</th>\n",
       "      <td>3</td>\n",
       "      <td>ACID</td>\n",
       "      <td>alcoholic</td>\n",
       "      <td>shot</td>\n",
       "      <td>shot glass</td>\n",
       "      <td>Poor in the 151 first followed by the 101 serv...</td>\n",
       "      <td>https://www.thecocktaildb.com/images/media/dri...</td>\n",
       "      <td>[151 proof rum, wild turkey]</td>\n",
       "      <td>[1 oz Bacardi , 1 oz ]</td>\n",
       "      <td>question Generate a cocktail with 151 proof ru...</td>\n",
       "    </tr>\n",
       "    <tr>\n",
       "      <th>4</th>\n",
       "      <td>4</td>\n",
       "      <td>Adam</td>\n",
       "      <td>alcoholic</td>\n",
       "      <td>ordinary drink</td>\n",
       "      <td>cocktail glass</td>\n",
       "      <td>In a shaker half-filled with ice cubes, combin...</td>\n",
       "      <td>https://www.thecocktaildb.com/images/media/dri...</td>\n",
       "      <td>[dark rum, lemon juice, grenadine]</td>\n",
       "      <td>[2 oz , 1 oz , 1 tsp ]</td>\n",
       "      <td>question Generate a cocktail with Dark rum Lem...</td>\n",
       "    </tr>\n",
       "    <tr>\n",
       "      <th>5</th>\n",
       "      <td>5</td>\n",
       "      <td>AT&amp;T</td>\n",
       "      <td>alcoholic</td>\n",
       "      <td>ordinary drink</td>\n",
       "      <td>highball glass</td>\n",
       "      <td>Pour Vodka and Gin over ice, add Tonic and Stir</td>\n",
       "      <td>https://www.thecocktaildb.com/images/media/dri...</td>\n",
       "      <td>[absolut vodka, gin, tonic water]</td>\n",
       "      <td>[1 oz , 1 oz , 4 oz ]</td>\n",
       "      <td>question Generate a cocktail with Absolut Vodk...</td>\n",
       "    </tr>\n",
       "    <tr>\n",
       "      <th>6</th>\n",
       "      <td>6</td>\n",
       "      <td>A. J.</td>\n",
       "      <td>alcoholic</td>\n",
       "      <td>ordinary drink</td>\n",
       "      <td>cocktail glass</td>\n",
       "      <td>Shake ingredients with ice, strain into a cock...</td>\n",
       "      <td>https://www.thecocktaildb.com/images/media/dri...</td>\n",
       "      <td>[applejack, grapefruit juice]</td>\n",
       "      <td>[1 1/2 oz , 1 oz ]</td>\n",
       "      <td>question Generate a cocktail with Applejack Gr...</td>\n",
       "    </tr>\n",
       "    <tr>\n",
       "      <th>7</th>\n",
       "      <td>7</td>\n",
       "      <td>Avalon</td>\n",
       "      <td>alcoholic</td>\n",
       "      <td>ordinary drink</td>\n",
       "      <td>highball glass</td>\n",
       "      <td>Fill a tall glass with ice. Layer the Finlandi...</td>\n",
       "      <td>https://www.thecocktaildb.com/images/media/dri...</td>\n",
       "      <td>[vodka, pisang ambon, apple juice, lemon juice...</td>\n",
       "      <td>[3 parts, 1 part , 6 parts , 1 1/2 part , to t...</td>\n",
       "      <td>question Generate a cocktail with Vodka Pisang...</td>\n",
       "    </tr>\n",
       "    <tr>\n",
       "      <th>8</th>\n",
       "      <td>8</td>\n",
       "      <td>Apello</td>\n",
       "      <td>non alcoholic</td>\n",
       "      <td>other / unknown</td>\n",
       "      <td>collins glass</td>\n",
       "      <td>Stirr. Grnish with maraschino cherry.</td>\n",
       "      <td>https://www.thecocktaildb.com/images/media/dri...</td>\n",
       "      <td>[orange juice, grapefruit juice, apple juice, ...</td>\n",
       "      <td>[4 cl , 3 cl , 1 cl , 1 ]</td>\n",
       "      <td>question Generate a cocktail with Orange juice...</td>\n",
       "    </tr>\n",
       "    <tr>\n",
       "      <th>9</th>\n",
       "      <td>9</td>\n",
       "      <td>Affair</td>\n",
       "      <td>alcoholic</td>\n",
       "      <td>ordinary drink</td>\n",
       "      <td>highball glass</td>\n",
       "      <td>Pour schnapps, orange juice, and cranberry jui...</td>\n",
       "      <td>https://www.thecocktaildb.com/images/media/dri...</td>\n",
       "      <td>[strawberry schnapps, orange juice, cranberry ...</td>\n",
       "      <td>[2 oz , 2 oz , 2 oz , to taste]</td>\n",
       "      <td>question Generate a cocktail with Strawberry s...</td>\n",
       "    </tr>\n",
       "  </tbody>\n",
       "</table>\n",
       "</div>"
      ]
     },
     "execution_count": 49,
     "metadata": {},
     "output_type": "execute_result"
    }
   ],
   "execution_count": 49
  },
  {
   "metadata": {
    "ExecuteTime": {
     "end_time": "2025-07-28T14:20:45.880204Z",
     "start_time": "2025-07-28T14:20:45.870111Z"
    }
   },
   "cell_type": "code",
   "source": [
    "# Save the cleaned dataframe to a new CSV file\n",
    "df.to_csv(\"/Users/admin/PycharmProjects/Cocktail-Recommendation-System/database/cleaned_cocktails.csv\", index=False)"
   ],
   "id": "e62d1bbaf72dc2f0",
   "outputs": [],
   "execution_count": 50
  },
  {
   "metadata": {
    "ExecuteTime": {
     "end_time": "2025-07-28T14:20:45.905363Z",
     "start_time": "2025-07-28T14:20:45.902968Z"
    }
   },
   "cell_type": "code",
   "source": "",
   "id": "82a5413d5de6c3c7",
   "outputs": [],
   "execution_count": 50
  },
  {
   "metadata": {
    "ExecuteTime": {
     "end_time": "2025-07-28T14:20:45.976371Z",
     "start_time": "2025-07-28T14:20:45.973810Z"
    }
   },
   "cell_type": "code",
   "source": "",
   "id": "8445410a5a021faf",
   "outputs": [],
   "execution_count": 50
  }
 ],
 "metadata": {
  "kernelspec": {
   "display_name": "Python 3",
   "language": "python",
   "name": "python3"
  },
  "language_info": {
   "codemirror_mode": {
    "name": "ipython",
    "version": 2
   },
   "file_extension": ".py",
   "mimetype": "text/x-python",
   "name": "python",
   "nbconvert_exporter": "python",
   "pygments_lexer": "ipython2",
   "version": "2.7.6"
  }
 },
 "nbformat": 4,
 "nbformat_minor": 5
}
