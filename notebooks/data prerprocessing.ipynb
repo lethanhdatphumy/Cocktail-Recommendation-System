{
 "cells": [
  {
   "cell_type": "code",
   "id": "initial_id",
   "metadata": {
    "collapsed": true,
    "ExecuteTime": {
     "end_time": "2025-07-28T13:33:22.488220Z",
     "start_time": "2025-07-28T13:33:22.484291Z"
    }
   },
   "source": "import pandas as pd",
   "outputs": [],
   "execution_count": 26
  },
  {
   "metadata": {
    "ExecuteTime": {
     "end_time": "2025-07-28T13:33:22.515250Z",
     "start_time": "2025-07-28T13:33:22.503113Z"
    }
   },
   "cell_type": "code",
   "source": [
    "# Read the dataframe \n",
    "df = pd.read_csv(\"/Users/admin/PycharmProjects/Cocktail-Recommendation-System/database/final_cocktails.csv\")\n",
    "df.head(5)"
   ],
   "id": "1fa2d06d569690bc",
   "outputs": [
    {
     "data": {
      "text/plain": [
       "   Unnamed: 0  id  name  alcoholic        category       glassType  \\\n",
       "0           0   0    A1  Alcoholic        Cocktail  Cocktail glass   \n",
       "1           1   1   ABC  Alcoholic            Shot      Shot glass   \n",
       "2           2   2   Ace  Alcoholic        Cocktail   Martini Glass   \n",
       "3           3   3  ACID  Alcoholic            Shot      Shot glass   \n",
       "4           4   4  Adam  Alcoholic  Ordinary Drink  Cocktail glass   \n",
       "\n",
       "                                        instructions  \\\n",
       "0  Pour all ingredients into a cocktail shaker, m...   \n",
       "1                           Layered in a shot glass.   \n",
       "2  Shake all the ingredients in a cocktail shaker...   \n",
       "3  Poor in the 151 first followed by the 101 serv...   \n",
       "4  In a shaker half-filled with ice cubes, combin...   \n",
       "\n",
       "                                      drinkThumbnail  \\\n",
       "0  https://www.thecocktaildb.com/images/media/dri...   \n",
       "1  https://www.thecocktaildb.com/images/media/dri...   \n",
       "2  https://www.thecocktaildb.com/images/media/dri...   \n",
       "3  https://www.thecocktaildb.com/images/media/dri...   \n",
       "4  https://www.thecocktaildb.com/images/media/dri...   \n",
       "\n",
       "                                         ingredients  \\\n",
       "0  ['Gin', 'Grand Marnier', 'Lemon Juice', 'Grena...   \n",
       "1      ['Amaretto', 'Baileys irish cream', 'Cognac']   \n",
       "2  ['Gin', 'Grenadine', 'Heavy cream', 'Milk', 'E...   \n",
       "3                   ['151 proof rum', 'Wild Turkey']   \n",
       "4           ['Dark rum', 'Lemon juice', 'Grenadine']   \n",
       "\n",
       "                                  ingredientMeasures  \\\n",
       "0  ['1 3/4 shot ', '1 Shot ', '1/4 Shot', '1/8 Sh...   \n",
       "1                           ['1/3 ', '1/3 ', '1/3 ']   \n",
       "2  ['2 shots ', '1/2 shot ', '1/2 shot ', '1/2 sh...   \n",
       "3                         ['1 oz Bacardi ', '1 oz ']   \n",
       "4                       ['2 oz ', '1 oz ', '1 tsp ']   \n",
       "\n",
       "                                                text  \n",
       "0  question Generate a cocktail with Gin Grand Ma...  \n",
       "1  question Generate a cocktail with Amaretto Bai...  \n",
       "2  question Generate a cocktail with Gin Grenadin...  \n",
       "3  question Generate a cocktail with 151 proof ru...  \n",
       "4  question Generate a cocktail with Dark rum Lem...  "
      ],
      "text/html": [
       "<div>\n",
       "<style scoped>\n",
       "    .dataframe tbody tr th:only-of-type {\n",
       "        vertical-align: middle;\n",
       "    }\n",
       "\n",
       "    .dataframe tbody tr th {\n",
       "        vertical-align: top;\n",
       "    }\n",
       "\n",
       "    .dataframe thead th {\n",
       "        text-align: right;\n",
       "    }\n",
       "</style>\n",
       "<table border=\"1\" class=\"dataframe\">\n",
       "  <thead>\n",
       "    <tr style=\"text-align: right;\">\n",
       "      <th></th>\n",
       "      <th>Unnamed: 0</th>\n",
       "      <th>id</th>\n",
       "      <th>name</th>\n",
       "      <th>alcoholic</th>\n",
       "      <th>category</th>\n",
       "      <th>glassType</th>\n",
       "      <th>instructions</th>\n",
       "      <th>drinkThumbnail</th>\n",
       "      <th>ingredients</th>\n",
       "      <th>ingredientMeasures</th>\n",
       "      <th>text</th>\n",
       "    </tr>\n",
       "  </thead>\n",
       "  <tbody>\n",
       "    <tr>\n",
       "      <th>0</th>\n",
       "      <td>0</td>\n",
       "      <td>0</td>\n",
       "      <td>A1</td>\n",
       "      <td>Alcoholic</td>\n",
       "      <td>Cocktail</td>\n",
       "      <td>Cocktail glass</td>\n",
       "      <td>Pour all ingredients into a cocktail shaker, m...</td>\n",
       "      <td>https://www.thecocktaildb.com/images/media/dri...</td>\n",
       "      <td>['Gin', 'Grand Marnier', 'Lemon Juice', 'Grena...</td>\n",
       "      <td>['1 3/4 shot ', '1 Shot ', '1/4 Shot', '1/8 Sh...</td>\n",
       "      <td>question Generate a cocktail with Gin Grand Ma...</td>\n",
       "    </tr>\n",
       "    <tr>\n",
       "      <th>1</th>\n",
       "      <td>1</td>\n",
       "      <td>1</td>\n",
       "      <td>ABC</td>\n",
       "      <td>Alcoholic</td>\n",
       "      <td>Shot</td>\n",
       "      <td>Shot glass</td>\n",
       "      <td>Layered in a shot glass.</td>\n",
       "      <td>https://www.thecocktaildb.com/images/media/dri...</td>\n",
       "      <td>['Amaretto', 'Baileys irish cream', 'Cognac']</td>\n",
       "      <td>['1/3 ', '1/3 ', '1/3 ']</td>\n",
       "      <td>question Generate a cocktail with Amaretto Bai...</td>\n",
       "    </tr>\n",
       "    <tr>\n",
       "      <th>2</th>\n",
       "      <td>2</td>\n",
       "      <td>2</td>\n",
       "      <td>Ace</td>\n",
       "      <td>Alcoholic</td>\n",
       "      <td>Cocktail</td>\n",
       "      <td>Martini Glass</td>\n",
       "      <td>Shake all the ingredients in a cocktail shaker...</td>\n",
       "      <td>https://www.thecocktaildb.com/images/media/dri...</td>\n",
       "      <td>['Gin', 'Grenadine', 'Heavy cream', 'Milk', 'E...</td>\n",
       "      <td>['2 shots ', '1/2 shot ', '1/2 shot ', '1/2 sh...</td>\n",
       "      <td>question Generate a cocktail with Gin Grenadin...</td>\n",
       "    </tr>\n",
       "    <tr>\n",
       "      <th>3</th>\n",
       "      <td>3</td>\n",
       "      <td>3</td>\n",
       "      <td>ACID</td>\n",
       "      <td>Alcoholic</td>\n",
       "      <td>Shot</td>\n",
       "      <td>Shot glass</td>\n",
       "      <td>Poor in the 151 first followed by the 101 serv...</td>\n",
       "      <td>https://www.thecocktaildb.com/images/media/dri...</td>\n",
       "      <td>['151 proof rum', 'Wild Turkey']</td>\n",
       "      <td>['1 oz Bacardi ', '1 oz ']</td>\n",
       "      <td>question Generate a cocktail with 151 proof ru...</td>\n",
       "    </tr>\n",
       "    <tr>\n",
       "      <th>4</th>\n",
       "      <td>4</td>\n",
       "      <td>4</td>\n",
       "      <td>Adam</td>\n",
       "      <td>Alcoholic</td>\n",
       "      <td>Ordinary Drink</td>\n",
       "      <td>Cocktail glass</td>\n",
       "      <td>In a shaker half-filled with ice cubes, combin...</td>\n",
       "      <td>https://www.thecocktaildb.com/images/media/dri...</td>\n",
       "      <td>['Dark rum', 'Lemon juice', 'Grenadine']</td>\n",
       "      <td>['2 oz ', '1 oz ', '1 tsp ']</td>\n",
       "      <td>question Generate a cocktail with Dark rum Lem...</td>\n",
       "    </tr>\n",
       "  </tbody>\n",
       "</table>\n",
       "</div>"
      ]
     },
     "execution_count": 27,
     "metadata": {},
     "output_type": "execute_result"
    }
   ],
   "execution_count": 27
  },
  {
   "metadata": {
    "ExecuteTime": {
     "end_time": "2025-07-28T13:33:22.544028Z",
     "start_time": "2025-07-28T13:33:22.535880Z"
    }
   },
   "cell_type": "code",
   "source": "df.describe()",
   "id": "b7f3b76e26cb3cfd",
   "outputs": [
    {
     "data": {
      "text/plain": [
       "       Unnamed: 0          id\n",
       "count  425.000000  425.000000\n",
       "mean   212.000000  212.000000\n",
       "std    122.831185  122.831185\n",
       "min      0.000000    0.000000\n",
       "25%    106.000000  106.000000\n",
       "50%    212.000000  212.000000\n",
       "75%    318.000000  318.000000\n",
       "max    424.000000  424.000000"
      ],
      "text/html": [
       "<div>\n",
       "<style scoped>\n",
       "    .dataframe tbody tr th:only-of-type {\n",
       "        vertical-align: middle;\n",
       "    }\n",
       "\n",
       "    .dataframe tbody tr th {\n",
       "        vertical-align: top;\n",
       "    }\n",
       "\n",
       "    .dataframe thead th {\n",
       "        text-align: right;\n",
       "    }\n",
       "</style>\n",
       "<table border=\"1\" class=\"dataframe\">\n",
       "  <thead>\n",
       "    <tr style=\"text-align: right;\">\n",
       "      <th></th>\n",
       "      <th>Unnamed: 0</th>\n",
       "      <th>id</th>\n",
       "    </tr>\n",
       "  </thead>\n",
       "  <tbody>\n",
       "    <tr>\n",
       "      <th>count</th>\n",
       "      <td>425.000000</td>\n",
       "      <td>425.000000</td>\n",
       "    </tr>\n",
       "    <tr>\n",
       "      <th>mean</th>\n",
       "      <td>212.000000</td>\n",
       "      <td>212.000000</td>\n",
       "    </tr>\n",
       "    <tr>\n",
       "      <th>std</th>\n",
       "      <td>122.831185</td>\n",
       "      <td>122.831185</td>\n",
       "    </tr>\n",
       "    <tr>\n",
       "      <th>min</th>\n",
       "      <td>0.000000</td>\n",
       "      <td>0.000000</td>\n",
       "    </tr>\n",
       "    <tr>\n",
       "      <th>25%</th>\n",
       "      <td>106.000000</td>\n",
       "      <td>106.000000</td>\n",
       "    </tr>\n",
       "    <tr>\n",
       "      <th>50%</th>\n",
       "      <td>212.000000</td>\n",
       "      <td>212.000000</td>\n",
       "    </tr>\n",
       "    <tr>\n",
       "      <th>75%</th>\n",
       "      <td>318.000000</td>\n",
       "      <td>318.000000</td>\n",
       "    </tr>\n",
       "    <tr>\n",
       "      <th>max</th>\n",
       "      <td>424.000000</td>\n",
       "      <td>424.000000</td>\n",
       "    </tr>\n",
       "  </tbody>\n",
       "</table>\n",
       "</div>"
      ]
     },
     "execution_count": 28,
     "metadata": {},
     "output_type": "execute_result"
    }
   ],
   "execution_count": 28
  },
  {
   "metadata": {
    "ExecuteTime": {
     "end_time": "2025-07-28T13:33:22.551021Z",
     "start_time": "2025-07-28T13:33:22.546107Z"
    }
   },
   "cell_type": "code",
   "source": "df.info()",
   "id": "b4ca2bd0571deb46",
   "outputs": [
    {
     "name": "stdout",
     "output_type": "stream",
     "text": [
      "<class 'pandas.core.frame.DataFrame'>\n",
      "RangeIndex: 425 entries, 0 to 424\n",
      "Data columns (total 11 columns):\n",
      " #   Column              Non-Null Count  Dtype \n",
      "---  ------              --------------  ----- \n",
      " 0   Unnamed: 0          425 non-null    int64 \n",
      " 1   id                  425 non-null    int64 \n",
      " 2   name                425 non-null    object\n",
      " 3   alcoholic           425 non-null    object\n",
      " 4   category            425 non-null    object\n",
      " 5   glassType           425 non-null    object\n",
      " 6   instructions        425 non-null    object\n",
      " 7   drinkThumbnail      425 non-null    object\n",
      " 8   ingredients         425 non-null    object\n",
      " 9   ingredientMeasures  425 non-null    object\n",
      " 10  text                425 non-null    object\n",
      "dtypes: int64(2), object(9)\n",
      "memory usage: 36.7+ KB\n"
     ]
    }
   ],
   "execution_count": 29
  },
  {
   "metadata": {
    "ExecuteTime": {
     "end_time": "2025-07-28T13:33:22.556744Z",
     "start_time": "2025-07-28T13:33:22.552523Z"
    }
   },
   "cell_type": "code",
   "source": "df.isnull().sum()",
   "id": "d0290fddac5628f9",
   "outputs": [
    {
     "data": {
      "text/plain": [
       "Unnamed: 0            0\n",
       "id                    0\n",
       "name                  0\n",
       "alcoholic             0\n",
       "category              0\n",
       "glassType             0\n",
       "instructions          0\n",
       "drinkThumbnail        0\n",
       "ingredients           0\n",
       "ingredientMeasures    0\n",
       "text                  0\n",
       "dtype: int64"
      ]
     },
     "execution_count": 30,
     "metadata": {},
     "output_type": "execute_result"
    }
   ],
   "execution_count": 30
  },
  {
   "metadata": {
    "ExecuteTime": {
     "end_time": "2025-07-28T13:33:22.565281Z",
     "start_time": "2025-07-28T13:33:22.559487Z"
    }
   },
   "cell_type": "code",
   "source": [
    "# drop the Unnamed column\n",
    "df.drop(columns=[\"Unnamed: 0\"], inplace=True)\n",
    "df.head(5)"
   ],
   "id": "bdac8604bb080aff",
   "outputs": [
    {
     "data": {
      "text/plain": [
       "   id  name  alcoholic        category       glassType  \\\n",
       "0   0    A1  Alcoholic        Cocktail  Cocktail glass   \n",
       "1   1   ABC  Alcoholic            Shot      Shot glass   \n",
       "2   2   Ace  Alcoholic        Cocktail   Martini Glass   \n",
       "3   3  ACID  Alcoholic            Shot      Shot glass   \n",
       "4   4  Adam  Alcoholic  Ordinary Drink  Cocktail glass   \n",
       "\n",
       "                                        instructions  \\\n",
       "0  Pour all ingredients into a cocktail shaker, m...   \n",
       "1                           Layered in a shot glass.   \n",
       "2  Shake all the ingredients in a cocktail shaker...   \n",
       "3  Poor in the 151 first followed by the 101 serv...   \n",
       "4  In a shaker half-filled with ice cubes, combin...   \n",
       "\n",
       "                                      drinkThumbnail  \\\n",
       "0  https://www.thecocktaildb.com/images/media/dri...   \n",
       "1  https://www.thecocktaildb.com/images/media/dri...   \n",
       "2  https://www.thecocktaildb.com/images/media/dri...   \n",
       "3  https://www.thecocktaildb.com/images/media/dri...   \n",
       "4  https://www.thecocktaildb.com/images/media/dri...   \n",
       "\n",
       "                                         ingredients  \\\n",
       "0  ['Gin', 'Grand Marnier', 'Lemon Juice', 'Grena...   \n",
       "1      ['Amaretto', 'Baileys irish cream', 'Cognac']   \n",
       "2  ['Gin', 'Grenadine', 'Heavy cream', 'Milk', 'E...   \n",
       "3                   ['151 proof rum', 'Wild Turkey']   \n",
       "4           ['Dark rum', 'Lemon juice', 'Grenadine']   \n",
       "\n",
       "                                  ingredientMeasures  \\\n",
       "0  ['1 3/4 shot ', '1 Shot ', '1/4 Shot', '1/8 Sh...   \n",
       "1                           ['1/3 ', '1/3 ', '1/3 ']   \n",
       "2  ['2 shots ', '1/2 shot ', '1/2 shot ', '1/2 sh...   \n",
       "3                         ['1 oz Bacardi ', '1 oz ']   \n",
       "4                       ['2 oz ', '1 oz ', '1 tsp ']   \n",
       "\n",
       "                                                text  \n",
       "0  question Generate a cocktail with Gin Grand Ma...  \n",
       "1  question Generate a cocktail with Amaretto Bai...  \n",
       "2  question Generate a cocktail with Gin Grenadin...  \n",
       "3  question Generate a cocktail with 151 proof ru...  \n",
       "4  question Generate a cocktail with Dark rum Lem...  "
      ],
      "text/html": [
       "<div>\n",
       "<style scoped>\n",
       "    .dataframe tbody tr th:only-of-type {\n",
       "        vertical-align: middle;\n",
       "    }\n",
       "\n",
       "    .dataframe tbody tr th {\n",
       "        vertical-align: top;\n",
       "    }\n",
       "\n",
       "    .dataframe thead th {\n",
       "        text-align: right;\n",
       "    }\n",
       "</style>\n",
       "<table border=\"1\" class=\"dataframe\">\n",
       "  <thead>\n",
       "    <tr style=\"text-align: right;\">\n",
       "      <th></th>\n",
       "      <th>id</th>\n",
       "      <th>name</th>\n",
       "      <th>alcoholic</th>\n",
       "      <th>category</th>\n",
       "      <th>glassType</th>\n",
       "      <th>instructions</th>\n",
       "      <th>drinkThumbnail</th>\n",
       "      <th>ingredients</th>\n",
       "      <th>ingredientMeasures</th>\n",
       "      <th>text</th>\n",
       "    </tr>\n",
       "  </thead>\n",
       "  <tbody>\n",
       "    <tr>\n",
       "      <th>0</th>\n",
       "      <td>0</td>\n",
       "      <td>A1</td>\n",
       "      <td>Alcoholic</td>\n",
       "      <td>Cocktail</td>\n",
       "      <td>Cocktail glass</td>\n",
       "      <td>Pour all ingredients into a cocktail shaker, m...</td>\n",
       "      <td>https://www.thecocktaildb.com/images/media/dri...</td>\n",
       "      <td>['Gin', 'Grand Marnier', 'Lemon Juice', 'Grena...</td>\n",
       "      <td>['1 3/4 shot ', '1 Shot ', '1/4 Shot', '1/8 Sh...</td>\n",
       "      <td>question Generate a cocktail with Gin Grand Ma...</td>\n",
       "    </tr>\n",
       "    <tr>\n",
       "      <th>1</th>\n",
       "      <td>1</td>\n",
       "      <td>ABC</td>\n",
       "      <td>Alcoholic</td>\n",
       "      <td>Shot</td>\n",
       "      <td>Shot glass</td>\n",
       "      <td>Layered in a shot glass.</td>\n",
       "      <td>https://www.thecocktaildb.com/images/media/dri...</td>\n",
       "      <td>['Amaretto', 'Baileys irish cream', 'Cognac']</td>\n",
       "      <td>['1/3 ', '1/3 ', '1/3 ']</td>\n",
       "      <td>question Generate a cocktail with Amaretto Bai...</td>\n",
       "    </tr>\n",
       "    <tr>\n",
       "      <th>2</th>\n",
       "      <td>2</td>\n",
       "      <td>Ace</td>\n",
       "      <td>Alcoholic</td>\n",
       "      <td>Cocktail</td>\n",
       "      <td>Martini Glass</td>\n",
       "      <td>Shake all the ingredients in a cocktail shaker...</td>\n",
       "      <td>https://www.thecocktaildb.com/images/media/dri...</td>\n",
       "      <td>['Gin', 'Grenadine', 'Heavy cream', 'Milk', 'E...</td>\n",
       "      <td>['2 shots ', '1/2 shot ', '1/2 shot ', '1/2 sh...</td>\n",
       "      <td>question Generate a cocktail with Gin Grenadin...</td>\n",
       "    </tr>\n",
       "    <tr>\n",
       "      <th>3</th>\n",
       "      <td>3</td>\n",
       "      <td>ACID</td>\n",
       "      <td>Alcoholic</td>\n",
       "      <td>Shot</td>\n",
       "      <td>Shot glass</td>\n",
       "      <td>Poor in the 151 first followed by the 101 serv...</td>\n",
       "      <td>https://www.thecocktaildb.com/images/media/dri...</td>\n",
       "      <td>['151 proof rum', 'Wild Turkey']</td>\n",
       "      <td>['1 oz Bacardi ', '1 oz ']</td>\n",
       "      <td>question Generate a cocktail with 151 proof ru...</td>\n",
       "    </tr>\n",
       "    <tr>\n",
       "      <th>4</th>\n",
       "      <td>4</td>\n",
       "      <td>Adam</td>\n",
       "      <td>Alcoholic</td>\n",
       "      <td>Ordinary Drink</td>\n",
       "      <td>Cocktail glass</td>\n",
       "      <td>In a shaker half-filled with ice cubes, combin...</td>\n",
       "      <td>https://www.thecocktaildb.com/images/media/dri...</td>\n",
       "      <td>['Dark rum', 'Lemon juice', 'Grenadine']</td>\n",
       "      <td>['2 oz ', '1 oz ', '1 tsp ']</td>\n",
       "      <td>question Generate a cocktail with Dark rum Lem...</td>\n",
       "    </tr>\n",
       "  </tbody>\n",
       "</table>\n",
       "</div>"
      ]
     },
     "execution_count": 31,
     "metadata": {},
     "output_type": "execute_result"
    }
   ],
   "execution_count": 31
  },
  {
   "metadata": {
    "ExecuteTime": {
     "end_time": "2025-07-28T13:33:22.568976Z",
     "start_time": "2025-07-28T13:33:22.566383Z"
    }
   },
   "cell_type": "code",
   "source": [
    "# Check the \"ingredients\" column\n",
    "print(type(df[\"ingredients\"][2]))\n",
    "print(type(df[\"ingredientMeasures\"][3]))\n"
   ],
   "id": "8cbd07c2244f1689",
   "outputs": [
    {
     "name": "stdout",
     "output_type": "stream",
     "text": [
      "<class 'str'>\n",
      "<class 'str'>\n"
     ]
    }
   ],
   "execution_count": 32
  },
  {
   "metadata": {
    "ExecuteTime": {
     "end_time": "2025-07-28T13:33:22.572551Z",
     "start_time": "2025-07-28T13:33:22.569867Z"
    }
   },
   "cell_type": "code",
   "source": "print(df[\"ingredients\"].head(3))",
   "id": "3b5bd55f30e6d0d3",
   "outputs": [
    {
     "name": "stdout",
     "output_type": "stream",
     "text": [
      "0    ['Gin', 'Grand Marnier', 'Lemon Juice', 'Grena...\n",
      "1        ['Amaretto', 'Baileys irish cream', 'Cognac']\n",
      "2    ['Gin', 'Grenadine', 'Heavy cream', 'Milk', 'E...\n",
      "Name: ingredients, dtype: object\n"
     ]
    }
   ],
   "execution_count": 33
  },
  {
   "metadata": {
    "ExecuteTime": {
     "end_time": "2025-07-28T13:33:22.583968Z",
     "start_time": "2025-07-28T13:33:22.573671Z"
    }
   },
   "cell_type": "code",
   "source": [
    "import ast\n",
    "df['ingredients'] = df['ingredients'].apply(ast.literal_eval)\n",
    "df['ingredientMeasures'] = df['ingredientMeasures'].apply(ast.literal_eval)"
   ],
   "id": "77ea7a950b970a77",
   "outputs": [],
   "execution_count": 34
  },
  {
   "metadata": {
    "ExecuteTime": {
     "end_time": "2025-07-28T13:33:22.588237Z",
     "start_time": "2025-07-28T13:33:22.584989Z"
    }
   },
   "cell_type": "code",
   "source": [
    "# Check the \"ingredients\" and \"ingredientsMeasure\" columns\n",
    "print(type(df[\"ingredients\"][2]))\n",
    "print(type(df[\"ingredientMeasures\"][3]))\n"
   ],
   "id": "5224bc4f8cf97f1d",
   "outputs": [
    {
     "name": "stdout",
     "output_type": "stream",
     "text": [
      "<class 'list'>\n",
      "<class 'list'>\n"
     ]
    }
   ],
   "execution_count": 35
  },
  {
   "metadata": {
    "ExecuteTime": {
     "end_time": "2025-07-28T13:33:22.595180Z",
     "start_time": "2025-07-28T13:33:22.590723Z"
    }
   },
   "cell_type": "code",
   "source": [
    "# Normalize the ingredients column\n",
    "df['ingredients'] = df['ingredients'].apply(\n",
    "    lambda ingredients: [ingredient.strip().lower() for ingredient in ingredients]\n",
    ")\n",
    "\n",
    "# Display the normalized ingredients\n",
    "df['ingredients'].head()"
   ],
   "id": "ec36ff300b8b7c65",
   "outputs": [
    {
     "data": {
      "text/plain": [
       "0      [gin, grand marnier, lemon juice, grenadine]\n",
       "1           [amaretto, baileys irish cream, cognac]\n",
       "2    [gin, grenadine, heavy cream, milk, egg white]\n",
       "3                      [151 proof rum, wild turkey]\n",
       "4                [dark rum, lemon juice, grenadine]\n",
       "Name: ingredients, dtype: object"
      ]
     },
     "execution_count": 36,
     "metadata": {},
     "output_type": "execute_result"
    }
   ],
   "execution_count": 36
  },
  {
   "metadata": {
    "ExecuteTime": {
     "end_time": "2025-07-28T13:33:22.619686Z",
     "start_time": "2025-07-28T13:33:22.615040Z"
    }
   },
   "cell_type": "code",
   "source": [
    "# Standardize alcoholic, category, glassType\n",
    "df[\"alcoholic\"] = df[\"alcoholic\"].str.lower().str.strip()\n",
    "df[\"category\"] = df[\"category\"].str.lower().str.strip()\n",
    "df[\"glassType\"] = df[\"glassType\"].str.lower().str.strip()"
   ],
   "id": "65266050702d66a4",
   "outputs": [],
   "execution_count": 37
  },
  {
   "metadata": {
    "ExecuteTime": {
     "end_time": "2025-07-28T13:33:22.700043Z",
     "start_time": "2025-07-28T13:33:22.695911Z"
    }
   },
   "cell_type": "code",
   "source": [
    "print(df[\"alcoholic\"].unique())\n",
    "print(df[\"category\"].unique())\n",
    "print(df[\"glassType\"].unique())"
   ],
   "id": "e555279f21367d73",
   "outputs": [
    {
     "name": "stdout",
     "output_type": "stream",
     "text": [
      "['alcoholic' 'non alcoholic' 'optional alcohol']\n",
      "['cocktail' 'shot' 'ordinary drink' 'other / unknown' 'coffee / tea'\n",
      " 'beer' 'punch / party drink' 'shake' 'soft drink' 'homemade liqueur'\n",
      " 'cocoa']\n",
      "['cocktail glass' 'shot glass' 'martini glass' 'highball glass'\n",
      " 'collins glass' 'old-fashioned glass' 'whiskey sour glass'\n",
      " 'champagne flute' 'margarita glass' 'coupe glass' 'beer pilsner'\n",
      " 'punch bowl' 'coffee mug' 'beer mug' 'pint glass' 'hurricane glass'\n",
      " 'pitcher' 'beer glass' 'irish coffee cup' 'mason jar' 'balloon glass'\n",
      " 'wine glass' 'cordial glass' 'brandy snifter' 'copper mug' 'jar'\n",
      " 'nick and nora glass' 'white wine glass' 'whiskey glass'\n",
      " 'pousse cafe glass' 'margarita/coupette glass']\n"
     ]
    }
   ],
   "execution_count": 38
  },
  {
   "metadata": {
    "ExecuteTime": {
     "end_time": "2025-07-28T13:33:22.716667Z",
     "start_time": "2025-07-28T13:33:22.710607Z"
    }
   },
   "cell_type": "code",
   "source": [
    "# The most common ingredients\n",
    "most_common_ingredients = df['ingredients'].explode().value_counts().head(10) # Transform the list of ingredients into a long format\n",
    "most_common_ingredients"
   ],
   "id": "51055266b899d715",
   "outputs": [
    {
     "data": {
      "text/plain": [
       "ingredients\n",
       "gin             82\n",
       "vodka           64\n",
       "sugar           51\n",
       "lemon juice     49\n",
       "orange juice    44\n",
       "lemon           40\n",
       "ice             36\n",
       "lime juice      32\n",
       "grenadine       31\n",
       "lime            30\n",
       "Name: count, dtype: int64"
      ]
     },
     "execution_count": 39,
     "metadata": {},
     "output_type": "execute_result"
    }
   ],
   "execution_count": 39
  },
  {
   "metadata": {
    "ExecuteTime": {
     "end_time": "2025-07-28T13:33:22.740538Z",
     "start_time": "2025-07-28T13:33:22.735880Z"
    }
   },
   "cell_type": "code",
   "source": [
    "most_frequent_glass_types = df['glassType'].value_counts().head(10)\n",
    "most_frequent_glass_types"
   ],
   "id": "8651dddedb12933f",
   "outputs": [
    {
     "data": {
      "text/plain": [
       "glassType\n",
       "cocktail glass         100\n",
       "highball glass          98\n",
       "collins glass           58\n",
       "old-fashioned glass     39\n",
       "shot glass              24\n",
       "coffee mug              16\n",
       "whiskey sour glass      14\n",
       "punch bowl               8\n",
       "champagne flute          7\n",
       "irish coffee cup         6\n",
       "Name: count, dtype: int64"
      ]
     },
     "execution_count": 40,
     "metadata": {},
     "output_type": "execute_result"
    }
   ],
   "execution_count": 40
  },
  {
   "metadata": {
    "ExecuteTime": {
     "end_time": "2025-07-28T13:33:22.756132Z",
     "start_time": "2025-07-28T13:33:22.752712Z"
    }
   },
   "cell_type": "code",
   "source": [
    "# number of alcoholic and non-alcoholic cocktails\n",
    "number_of_alcoholic = df[df['alcoholic'] == 'alcoholic'].shape[0]\n",
    "number_of_non_alcoholic = df[df['alcoholic'] == 'non-alcoholic'].shape[0]\n",
    "print(f\"Number of alcoholic cocktails: {number_of_alcoholic}\")\n",
    "print(f\"Number of non-alcoholic cocktails: {number_of_non_alcoholic}\")"
   ],
   "id": "6722d3f57b1b6449",
   "outputs": [
    {
     "name": "stdout",
     "output_type": "stream",
     "text": [
      "Number of alcoholic cocktails: 379\n",
      "Number of non-alcoholic cocktails: 0\n"
     ]
    }
   ],
   "execution_count": 41
  },
  {
   "metadata": {
    "ExecuteTime": {
     "end_time": "2025-07-28T13:33:22.768764Z",
     "start_time": "2025-07-28T13:33:22.762725Z"
    }
   },
   "cell_type": "code",
   "source": [
    "# Review the dataframe after cleaning\n",
    "df.head(5)"
   ],
   "id": "32eeb3ddb9017131",
   "outputs": [
    {
     "data": {
      "text/plain": [
       "   id  name  alcoholic        category       glassType  \\\n",
       "0   0    A1  alcoholic        cocktail  cocktail glass   \n",
       "1   1   ABC  alcoholic            shot      shot glass   \n",
       "2   2   Ace  alcoholic        cocktail   martini glass   \n",
       "3   3  ACID  alcoholic            shot      shot glass   \n",
       "4   4  Adam  alcoholic  ordinary drink  cocktail glass   \n",
       "\n",
       "                                        instructions  \\\n",
       "0  Pour all ingredients into a cocktail shaker, m...   \n",
       "1                           Layered in a shot glass.   \n",
       "2  Shake all the ingredients in a cocktail shaker...   \n",
       "3  Poor in the 151 first followed by the 101 serv...   \n",
       "4  In a shaker half-filled with ice cubes, combin...   \n",
       "\n",
       "                                      drinkThumbnail  \\\n",
       "0  https://www.thecocktaildb.com/images/media/dri...   \n",
       "1  https://www.thecocktaildb.com/images/media/dri...   \n",
       "2  https://www.thecocktaildb.com/images/media/dri...   \n",
       "3  https://www.thecocktaildb.com/images/media/dri...   \n",
       "4  https://www.thecocktaildb.com/images/media/dri...   \n",
       "\n",
       "                                      ingredients  \\\n",
       "0    [gin, grand marnier, lemon juice, grenadine]   \n",
       "1         [amaretto, baileys irish cream, cognac]   \n",
       "2  [gin, grenadine, heavy cream, milk, egg white]   \n",
       "3                    [151 proof rum, wild turkey]   \n",
       "4              [dark rum, lemon juice, grenadine]   \n",
       "\n",
       "                                  ingredientMeasures  \\\n",
       "0         [1 3/4 shot , 1 Shot , 1/4 Shot, 1/8 Shot]   \n",
       "1                                 [1/3 , 1/3 , 1/3 ]   \n",
       "2  [2 shots , 1/2 shot , 1/2 shot , 1/2 shot, 1/2...   \n",
       "3                             [1 oz Bacardi , 1 oz ]   \n",
       "4                             [2 oz , 1 oz , 1 tsp ]   \n",
       "\n",
       "                                                text  \n",
       "0  question Generate a cocktail with Gin Grand Ma...  \n",
       "1  question Generate a cocktail with Amaretto Bai...  \n",
       "2  question Generate a cocktail with Gin Grenadin...  \n",
       "3  question Generate a cocktail with 151 proof ru...  \n",
       "4  question Generate a cocktail with Dark rum Lem...  "
      ],
      "text/html": [
       "<div>\n",
       "<style scoped>\n",
       "    .dataframe tbody tr th:only-of-type {\n",
       "        vertical-align: middle;\n",
       "    }\n",
       "\n",
       "    .dataframe tbody tr th {\n",
       "        vertical-align: top;\n",
       "    }\n",
       "\n",
       "    .dataframe thead th {\n",
       "        text-align: right;\n",
       "    }\n",
       "</style>\n",
       "<table border=\"1\" class=\"dataframe\">\n",
       "  <thead>\n",
       "    <tr style=\"text-align: right;\">\n",
       "      <th></th>\n",
       "      <th>id</th>\n",
       "      <th>name</th>\n",
       "      <th>alcoholic</th>\n",
       "      <th>category</th>\n",
       "      <th>glassType</th>\n",
       "      <th>instructions</th>\n",
       "      <th>drinkThumbnail</th>\n",
       "      <th>ingredients</th>\n",
       "      <th>ingredientMeasures</th>\n",
       "      <th>text</th>\n",
       "    </tr>\n",
       "  </thead>\n",
       "  <tbody>\n",
       "    <tr>\n",
       "      <th>0</th>\n",
       "      <td>0</td>\n",
       "      <td>A1</td>\n",
       "      <td>alcoholic</td>\n",
       "      <td>cocktail</td>\n",
       "      <td>cocktail glass</td>\n",
       "      <td>Pour all ingredients into a cocktail shaker, m...</td>\n",
       "      <td>https://www.thecocktaildb.com/images/media/dri...</td>\n",
       "      <td>[gin, grand marnier, lemon juice, grenadine]</td>\n",
       "      <td>[1 3/4 shot , 1 Shot , 1/4 Shot, 1/8 Shot]</td>\n",
       "      <td>question Generate a cocktail with Gin Grand Ma...</td>\n",
       "    </tr>\n",
       "    <tr>\n",
       "      <th>1</th>\n",
       "      <td>1</td>\n",
       "      <td>ABC</td>\n",
       "      <td>alcoholic</td>\n",
       "      <td>shot</td>\n",
       "      <td>shot glass</td>\n",
       "      <td>Layered in a shot glass.</td>\n",
       "      <td>https://www.thecocktaildb.com/images/media/dri...</td>\n",
       "      <td>[amaretto, baileys irish cream, cognac]</td>\n",
       "      <td>[1/3 , 1/3 , 1/3 ]</td>\n",
       "      <td>question Generate a cocktail with Amaretto Bai...</td>\n",
       "    </tr>\n",
       "    <tr>\n",
       "      <th>2</th>\n",
       "      <td>2</td>\n",
       "      <td>Ace</td>\n",
       "      <td>alcoholic</td>\n",
       "      <td>cocktail</td>\n",
       "      <td>martini glass</td>\n",
       "      <td>Shake all the ingredients in a cocktail shaker...</td>\n",
       "      <td>https://www.thecocktaildb.com/images/media/dri...</td>\n",
       "      <td>[gin, grenadine, heavy cream, milk, egg white]</td>\n",
       "      <td>[2 shots , 1/2 shot , 1/2 shot , 1/2 shot, 1/2...</td>\n",
       "      <td>question Generate a cocktail with Gin Grenadin...</td>\n",
       "    </tr>\n",
       "    <tr>\n",
       "      <th>3</th>\n",
       "      <td>3</td>\n",
       "      <td>ACID</td>\n",
       "      <td>alcoholic</td>\n",
       "      <td>shot</td>\n",
       "      <td>shot glass</td>\n",
       "      <td>Poor in the 151 first followed by the 101 serv...</td>\n",
       "      <td>https://www.thecocktaildb.com/images/media/dri...</td>\n",
       "      <td>[151 proof rum, wild turkey]</td>\n",
       "      <td>[1 oz Bacardi , 1 oz ]</td>\n",
       "      <td>question Generate a cocktail with 151 proof ru...</td>\n",
       "    </tr>\n",
       "    <tr>\n",
       "      <th>4</th>\n",
       "      <td>4</td>\n",
       "      <td>Adam</td>\n",
       "      <td>alcoholic</td>\n",
       "      <td>ordinary drink</td>\n",
       "      <td>cocktail glass</td>\n",
       "      <td>In a shaker half-filled with ice cubes, combin...</td>\n",
       "      <td>https://www.thecocktaildb.com/images/media/dri...</td>\n",
       "      <td>[dark rum, lemon juice, grenadine]</td>\n",
       "      <td>[2 oz , 1 oz , 1 tsp ]</td>\n",
       "      <td>question Generate a cocktail with Dark rum Lem...</td>\n",
       "    </tr>\n",
       "  </tbody>\n",
       "</table>\n",
       "</div>"
      ]
     },
     "execution_count": 42,
     "metadata": {},
     "output_type": "execute_result"
    }
   ],
   "execution_count": 42
  },
  {
   "metadata": {
    "ExecuteTime": {
     "end_time": "2025-07-28T13:33:22.778261Z",
     "start_time": "2025-07-28T13:33:22.770022Z"
    }
   },
   "cell_type": "code",
   "source": [
    "# Save the cleaned dataframe to a new CSV file\n",
    "df.to_csv(\"/Users/admin/PycharmProjects/Cocktail-Recommendation-System/database/cleaned_cocktails.csv\", index=False)"
   ],
   "id": "e62d1bbaf72dc2f0",
   "outputs": [],
   "execution_count": 43
  }
 ],
 "metadata": {
  "kernelspec": {
   "display_name": "Python 3",
   "language": "python",
   "name": "python3"
  },
  "language_info": {
   "codemirror_mode": {
    "name": "ipython",
    "version": 2
   },
   "file_extension": ".py",
   "mimetype": "text/x-python",
   "name": "python",
   "nbconvert_exporter": "python",
   "pygments_lexer": "ipython2",
   "version": "2.7.6"
  }
 },
 "nbformat": 4,
 "nbformat_minor": 5
}
